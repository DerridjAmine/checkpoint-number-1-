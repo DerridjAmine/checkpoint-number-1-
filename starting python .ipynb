{
 "cells": [
  {
   "cell_type": "code",
   "execution_count": 1,
   "id": "15bc1f06",
   "metadata": {
    "scrolled": true
   },
   "outputs": [
    {
     "name": "stdout",
     "output_type": "stream",
     "text": [
      "welcome to Python world! Let's start coding\n"
     ]
    }
   ],
   "source": [
    "print(\"welcome to Python world! Let's start coding\")"
   ]
  },
  {
   "cell_type": "markdown",
   "id": "41ab6056",
   "metadata": {},
   "source": [
    "my python version is Python 3.9.12"
   ]
  },
  {
   "cell_type": "code",
   "execution_count": null,
   "id": "bbe3365c",
   "metadata": {},
   "outputs": [],
   "source": []
  }
 ],
 "metadata": {
  "kernelspec": {
   "display_name": "Python 3 (ipykernel)",
   "language": "python",
   "name": "python3"
  },
  "language_info": {
   "codemirror_mode": {
    "name": "ipython",
    "version": 3
   },
   "file_extension": ".py",
   "mimetype": "text/x-python",
   "name": "python",
   "nbconvert_exporter": "python",
   "pygments_lexer": "ipython3",
   "version": "3.9.12"
  }
 },
 "nbformat": 4,
 "nbformat_minor": 5
}
